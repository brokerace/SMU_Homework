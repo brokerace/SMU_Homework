{
 "cells": [
  {
   "cell_type": "code",
   "execution_count": 1,
   "metadata": {
    "scrolled": true
   },
   "outputs": [
    {
     "data": {
      "text/html": [
       "<div>\n",
       "<style scoped>\n",
       "    .dataframe tbody tr th:only-of-type {\n",
       "        vertical-align: middle;\n",
       "    }\n",
       "\n",
       "    .dataframe tbody tr th {\n",
       "        vertical-align: top;\n",
       "    }\n",
       "\n",
       "    .dataframe thead th {\n",
       "        text-align: right;\n",
       "    }\n",
       "</style>\n",
       "<table border=\"1\" class=\"dataframe\">\n",
       "  <thead>\n",
       "    <tr style=\"text-align: right;\">\n",
       "      <th></th>\n",
       "      <th>Date</th>\n",
       "      <th>Profit/Losses</th>\n",
       "    </tr>\n",
       "  </thead>\n",
       "  <tbody>\n",
       "    <tr>\n",
       "      <th>0</th>\n",
       "      <td>Jan-2010</td>\n",
       "      <td>867884</td>\n",
       "    </tr>\n",
       "    <tr>\n",
       "      <th>1</th>\n",
       "      <td>Feb-2010</td>\n",
       "      <td>984655</td>\n",
       "    </tr>\n",
       "    <tr>\n",
       "      <th>2</th>\n",
       "      <td>Mar-2010</td>\n",
       "      <td>322013</td>\n",
       "    </tr>\n",
       "    <tr>\n",
       "      <th>3</th>\n",
       "      <td>Apr-2010</td>\n",
       "      <td>-69417</td>\n",
       "    </tr>\n",
       "    <tr>\n",
       "      <th>4</th>\n",
       "      <td>May-2010</td>\n",
       "      <td>310503</td>\n",
       "    </tr>\n",
       "  </tbody>\n",
       "</table>\n",
       "</div>"
      ],
      "text/plain": [
       "       Date  Profit/Losses\n",
       "0  Jan-2010         867884\n",
       "1  Feb-2010         984655\n",
       "2  Mar-2010         322013\n",
       "3  Apr-2010         -69417\n",
       "4  May-2010         310503"
      ]
     },
     "execution_count": 1,
     "metadata": {},
     "output_type": "execute_result"
    }
   ],
   "source": [
    "# import pandas\n",
    "import pandas as pd\n",
    "\n",
    "# create variable for csv file\n",
    "bank = \"budget_data.csv\"\n",
    "\n",
    "# create variable for dataframe\n",
    "bank_df = pd.read_csv(bank)\n",
    "bank_df.head()\n"
   ]
  },
  {
   "cell_type": "code",
   "execution_count": 2,
   "metadata": {},
   "outputs": [
    {
     "name": "stdout",
     "output_type": "stream",
     "text": [
      "Index(['Date', 'Profit/Losses'], dtype='object')\n"
     ]
    }
   ],
   "source": [
    "# display index of columns\n",
    "print(bank_df.columns)\n"
   ]
  },
  {
   "cell_type": "code",
   "execution_count": 3,
   "metadata": {},
   "outputs": [
    {
     "name": "stdout",
     "output_type": "stream",
     "text": [
      "<class 'pandas.core.frame.DataFrame'>\n",
      "RangeIndex: 86 entries, 0 to 85\n",
      "Data columns (total 2 columns):\n",
      "Date             86 non-null object\n",
      "Profit/Losses    86 non-null int64\n",
      "dtypes: int64(1), object(1)\n",
      "memory usage: 1.4+ KB\n",
      "None\n"
     ]
    }
   ],
   "source": [
    "# display data info\n",
    "print(bank_df.info())\n"
   ]
  },
  {
   "cell_type": "code",
   "execution_count": 4,
   "metadata": {},
   "outputs": [
    {
     "name": "stdout",
     "output_type": "stream",
     "text": [
      "86\n"
     ]
    }
   ],
   "source": [
    "# display number of months\n",
    "months = len(bank_df[\"Date\"].unique())\n",
    "print(months)"
   ]
  },
  {
   "cell_type": "code",
   "execution_count": 5,
   "metadata": {},
   "outputs": [
    {
     "name": "stdout",
     "output_type": "stream",
     "text": [
      "38382578 , 38382578\n"
     ]
    }
   ],
   "source": [
    "# two methods to find sum\n",
    "net1 = sum(bank_df[\"Profit/Losses\"])\n",
    "net2 = (bank_df[\"Profit/Losses\"].sum())\n",
    "print(net1,\",\",net2)"
   ]
  },
  {
   "cell_type": "code",
   "execution_count": 6,
   "metadata": {},
   "outputs": [
    {
     "name": "stdout",
     "output_type": "stream",
     "text": [
      "Greatest Increase =  1926159 ,  Greatest Decrease = -2196167\n",
      "-2315.1176470588234\n"
     ]
    }
   ],
   "source": [
    "# create empty list to hold change values \n",
    "changes = []\n",
    "\n",
    "# calculate greatest increase in profits\n",
    "for indx, row in bank_df.iterrows():\n",
    "    \n",
    "    #print(indx, row['Date'], row['Profit/Losses'])\n",
    "    if (indx < 85):\n",
    "        change = bank_df['Profit/Losses'][indx+1] - row['Profit/Losses']\n",
    "        changes.append(change)\n",
    "\n",
    "increase = max(changes)\n",
    "decrease = min(changes)      \n",
    "\n",
    "# print full list of change values\n",
    "print(\"Greatest Increase = \",increase,\", \",\"Greatest Decrease =\", decrease)\n",
    "\n",
    "averageChange = sum(changes)/len(changes)\n",
    "print(averageChange)"
   ]
  },
  {
   "cell_type": "code",
   "execution_count": 7,
   "metadata": {},
   "outputs": [],
   "source": [
    "maxChangeIndex = changes.index(increase)\n",
    "minChangeIndex = changes.index(decrease)\n",
    "\n",
    "maxMonth = bank_df.iloc[maxChangeIndex + 1].Date\n",
    "minMonth = bank_df.iloc[minChangeIndex + 1].Date"
   ]
  },
  {
   "cell_type": "code",
   "execution_count": 8,
   "metadata": {},
   "outputs": [
    {
     "name": "stdout",
     "output_type": "stream",
     "text": [
      "\n",
      "Financial Analysis: \n",
      "------------------- \n",
      "Total Months: 86 \n",
      "Net Total: 38382578 \n",
      "Average Change: -2315.1176470588234 \n",
      "Greatest Increase in Profits: Feb-2012 $(1926159)\n",
      "Greatest Decrease in Profits: Sep-2013 $(-2196167)\n"
     ]
    }
   ],
   "source": [
    "# style output \n",
    "output = (\n",
    "    f\"\\nFinancial Analysis: \\n\"\n",
    "    f\"------------------- \\n\"\n",
    "    f\"Total Months: {months} \\n\"\n",
    "    f\"Net Total: {net1} \\n\"\n",
    "    f\"Average Change: {averageChange} \\n\"\n",
    "    f\"Greatest Increase in Profits: {maxMonth} $({increase})\\n\"\n",
    "    f\"Greatest Decrease in Profits: {minMonth} $({decrease})\")\n",
    "\n",
    "# print results \n",
    "print(output)\n",
    "\n",
    "# create txt file\n",
    "text_file = open(\"PyBank_Output.txt\", \"w\")\n",
    "text_file.write(output)\n",
    "text_file.close()"
   ]
  },
  {
   "cell_type": "code",
   "execution_count": null,
   "metadata": {},
   "outputs": [],
   "source": []
  }
 ],
 "metadata": {
  "kernelspec": {
   "display_name": "Python 3",
   "language": "python",
   "name": "python3"
  },
  "language_info": {
   "codemirror_mode": {
    "name": "ipython",
    "version": 3
   },
   "file_extension": ".py",
   "mimetype": "text/x-python",
   "name": "python",
   "nbconvert_exporter": "python",
   "pygments_lexer": "ipython3",
   "version": "3.7.3"
  }
 },
 "nbformat": 4,
 "nbformat_minor": 2
}
