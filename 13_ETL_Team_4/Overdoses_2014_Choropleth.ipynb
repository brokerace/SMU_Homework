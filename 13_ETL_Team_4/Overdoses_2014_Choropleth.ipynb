{
 "cells": [
  {
   "cell_type": "code",
   "execution_count": 1,
   "metadata": {},
   "outputs": [],
   "source": [
    "# import dependencies to create choropleth map of overdoses \n",
    "%matplotlib notebook\n",
    "import gmaps\n",
    "import numpy as np\n",
    "import geopandas as gpd\n",
    "from shapely.geometry import Point, Polygon\n",
    "import matplotlib.pyplot as plt\n",
    "import pandas as pd\n",
    "import plotly.express as px\n",
    "%matplotlib inline"
   ]
  },
  {
   "cell_type": "code",
   "execution_count": null,
   "metadata": {},
   "outputs": [],
   "source": []
  },
  {
   "cell_type": "code",
   "execution_count": null,
   "metadata": {},
   "outputs": [],
   "source": [
    "# recreate dataframe for temperature in 2010\n",
    "ncdc_file = pd.read_csv(\"Weather_Data_NCDC.csv\")\n",
    "ncdc_file.head()\n",
    "ncdc_2010 = ncdc_file[(ncdc_file['Date (Year Month)'] >=201001) \n",
    "                      & (ncdc_file['Date (Year Month)'] <=201012)]\n",
    "ncdc_2010.info()"
   ]
  },
  {
   "cell_type": "code",
   "execution_count": null,
   "metadata": {},
   "outputs": [],
   "source": [
    "# recreate dataframe for select columns \n",
    "ncdc_df = ncdc_2010[[\"Location\", \"Value in F\"]]\n",
    "\n",
    "# recreate dataframe for mean \n",
    "ncdc_mean = pd.DataFrame(ncdc_df.groupby([\"Location\"]).mean())\n",
    "ncdc_mean.reset_index(level=0, inplace=True)\n",
    "ncdc_mean"
   ]
  },
  {
   "cell_type": "code",
   "execution_count": null,
   "metadata": {},
   "outputs": [],
   "source": [
    "# build choropleth map of mean average temperature by state 2010\n",
    "import plotly.express as px\n",
    "import plotly.graph_objects as go\n",
    "\n",
    "fig = go.Figure(data=go.Choropleth(locations=ncdc_mean['abbr'], \n",
    "                                   z = ncdc_mean['Value in F'].astype(float), \n",
    "                                   locationmode = 'USA-states', \n",
    "                                   colorscale='Reds', \n",
    "                                   colorbar_title='Mean Temp in F'))\n",
    "\n",
    "\n",
    "fig.update_layout(\n",
    "    title_text = '2010 Mean Temperature (F) by State',\n",
    "    geo_scope='usa')\n",
    "fig"
   ]
  },
  {
   "cell_type": "code",
   "execution_count": null,
   "metadata": {},
   "outputs": [],
   "source": []
  },
  {
   "cell_type": "code",
   "execution_count": null,
   "metadata": {},
   "outputs": [],
   "source": []
  },
  {
   "cell_type": "code",
   "execution_count": null,
   "metadata": {},
   "outputs": [],
   "source": []
  }
 ],
 "metadata": {
  "kernelspec": {
   "display_name": "Python 3",
   "language": "python",
   "name": "python3"
  },
  "language_info": {
   "codemirror_mode": {
    "name": "ipython",
    "version": 3
   },
   "file_extension": ".py",
   "mimetype": "text/x-python",
   "name": "python",
   "nbconvert_exporter": "python",
   "pygments_lexer": "ipython3",
   "version": "3.7.4"
  }
 },
 "nbformat": 4,
 "nbformat_minor": 2
}
